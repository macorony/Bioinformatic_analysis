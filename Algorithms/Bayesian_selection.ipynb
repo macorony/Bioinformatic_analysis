{
  "nbformat": 4,
  "nbformat_minor": 0,
  "metadata": {
    "colab": {
      "provenance": [],
      "authorship_tag": "ABX9TyOpHVhUj1U5CbIG4fSwIssT",
      "include_colab_link": true
    },
    "kernelspec": {
      "name": "python3",
      "display_name": "Python 3"
    },
    "language_info": {
      "name": "python"
    }
  },
  "cells": [
    {
      "cell_type": "markdown",
      "metadata": {
        "id": "view-in-github",
        "colab_type": "text"
      },
      "source": [
        "<a href=\"https://colab.research.google.com/github/macorony/Bioinformatic_analysis/blob/main/Algorithms/Bayesian_selection.ipynb\" target=\"_parent\"><img src=\"https://colab.research.google.com/assets/colab-badge.svg\" alt=\"Open In Colab\"/></a>"
      ]
    },
    {
      "cell_type": "code",
      "source": [
        "import numpy as np\n",
        "import pandas as pd\n",
        "import scipy"
      ],
      "metadata": {
        "id": "AMkF35Pq1RFO"
      },
      "execution_count": 3,
      "outputs": []
    },
    {
      "cell_type": "code",
      "source": [
        "import numpy as np\n",
        "import pandas as pd\n",
        "class BayesianSelection:\n",
        "  def __init__(self, count_table, design_matrix=None, sgrna_efficiency=None):\n",
        "    self.count_table = count_table\n",
        "    self.design_matrix = design_matrix\n",
        "    self.sgrna_efficiency = sgrna_efficiency\n",
        "\n",
        "    self.n_sgrnas = len(count_table)\n",
        "    self.genes = np.unique(count_table['gene'])\n",
        "    self.n_genes = len(self.genes)\n",
        "\n",
        "    self.normalized_counts = None\n",
        "    self.fold_changes = None\n",
        "    self.gene_guide_map = None\n",
        "\n",
        "  def normalize_counts(self, count_table):\n",
        "    control_sf = np.median(count_table['control'])/count_table['control']\n",
        "    treatment_sf = np.median(count_table['treatment'])/count_table['treatment']\n",
        "    normalized = pd.DataFrame(\n",
        "        {'control': count_table['control']*control_sf,\n",
        "         'treatment': count_table['treatment']*treatment_sf}\n",
        "        )\n",
        "    return normalized\n",
        "\n",
        "  def group_sgrna_by_gene(self):\n",
        "    gene_guide_map = {}\n",
        "    for gene in self.genes:\n",
        "      gene_guide_map[gene] = np.where(self.count_table['gene'] == gene)\n",
        "    return gene_guide_map\n",
        "\n",
        "  def initialize_priors(self):\n",
        "    '''\n",
        "    Initialize prior distributions for Bayesian analysis.\n",
        "    '''\n",
        "    # 1. gene effect priors(normal distribution)\n",
        "    self.gene_priors = {\n",
        "        'mean': np.zeros(self.n_genes),\n",
        "        'variance': np.ones(self.n_genes)\n",
        "    }\n",
        "    # 2.sgRNA efficiency priors\n",
        "    if self.sgrna_efficiency is None:\n",
        "      self.sgrna_priors = {\n",
        "          'mean': np.array(list(self.sgrna_efficiency.values())),\n",
        "          'variance': 0.1 * np.ones(self.n_sgrnas)\n",
        "      }\n",
        "    else:\n",
        "      self.sgrna_priors = {\n",
        "          'mean': np.ones(self.n_sgrnas),\n",
        "          'variance':np.ones(self.n_sgrnas)\n",
        "          }\n",
        "    # 3. dispersion priors (Gamma distribution)\n",
        "    self.dispersion_priors = {\n",
        "        'shape': np.ones(self.n_genes),\n",
        "        'scale': np.ones(self.n_genes)\n",
        "        }\n",
        "    # 4. size factor priors (if needed for multiple conditions)\n",
        "    if self.design_matrix is not None:\n",
        "      n_conditions = self.design_matrix.shape[1]\n",
        "      self.size_factor_priors = {\n",
        "          'mean': np.ones(n_conditions),\n",
        "          'variance': 0.1 * np.ones(n_conditions)\n",
        "          }\n",
        "\n",
        "  def construct_model(self):\n",
        "    \"\"\"\n",
        "    Construct the hierarchical model for Bayesian analysis.\n",
        "    \"\"\"\n",
        "    self.model = {\n",
        "        # likelihood function (Negative Binomial)\n",
        "        'likelihood': self.contruct_likelihood(),\n",
        "        # priors?\n",
        "        'priors': self.initialize_priors(),\n",
        "        # hyperparameters?\n",
        "        'hyperparameters': self.set_hyperparameters()\n",
        "    }\n",
        "\n",
        "  def estimate_parameters(self, n_iterations=1000, burn_in=100):\n",
        "    \"\"\"\n",
        "    Estimate the parameters using EM algorithm.\n",
        "    \"\"\"\n",
        "    self.mcmc_samples = {\n",
        "        'gene_effect': np.zeros((n_iterations, self.n_genes)),\n",
        "        'sgrna_efficiency': np.zeros((n_iterations, self.n_sgrnas)),\n",
        "        'dispersion': np.zeros((n_iterations, self.n_genes))\n",
        "    }\n",
        "    # run gibbs sampling\n",
        "    for iter in range(n_iterations):\n",
        "      self.update_gene_effect()\n",
        "      self.update_sgrna_efficiency()\n",
        "      self.update_dispersion()\n",
        "      # store sample (after burn-in)\n",
        "      if iter >= burn_in:\n",
        "        self.store_samples(iter)\n",
        "      # monitor convergence\n",
        "      if iter % 100 == 0:\n",
        "        self.check_convergence(iter)\n",
        "\n",
        "  def contruct_likelihood(self):\n",
        "    \"\"\"\n",
        "    contruct negative binomial likelihood function\n",
        "    \"\"\"\n",
        "    def negative_binomial_likelihood(count, mean, dispersion):\n",
        "      # log likelihood of negative binomial distribution\n",
        "      r = 1/dispersion\n",
        "      p = r/(r+mean)\n",
        "      l1 = scipy.stats.nbinom.logpmf(count, r, p)\n",
        "      return l1\n",
        "    return negative_binomial_likelihood\n",
        "\n",
        "  def update_gene_effect(self):\n",
        "    \"\"\"\n",
        "    Update gene effects using Gibbs sampling.\n",
        "    \"\"\"\n",
        "    for gene_idx, gene in enumerate(self.n_genes):\n",
        "      # get sgRNA for the gene\n",
        "      gene_guides = self.gene_guide_map[self.genes[gene_idx]]['guide_index']\n",
        "      # calculate statistics\n",
        "      sgrna_data = self.fold_changes.loc[gene_guides, 'log2fc']\n",
        "      sgrna_vars = 1/(self.sgrna_prior['variance'][gene_guides])\n",
        "      # posterior parameters\n",
        "      posterior_var = 1/(1/self.gene_prior['variance'][gene_idx] + np.sum(sgrna_vars))\n",
        "      posterior_mean = posterior_var * (self.gene_prior['mean'][gene_idx]/self.gene_prior['variance'][gene_idx] + np.sum(sgrna_data*sgrna_vars))\n",
        "      # sample new effect\n",
        "      self.gene_effects[gene_idx] = np.random.normal(posterior_mean, np.sqrt(posterior_var))\n",
        "  def update_sgrna_efficiency(self):\n",
        "    \"\"\"\n",
        "    Update sgRNA efficiencies.\n",
        "    \"\"\"\n",
        "    for sgrna_idx, sgrna in enumerate(self.n_sgrnas):\n",
        "      # calculate statistics\n",
        "      gene = self.count_table.loc[sgrna_idx, 'gene']\n",
        "      gene_idx = np.where(self.genes == gene)[0][0]\n",
        "      # calculate posterior\n",
        "      data_contribution = self.fold_changes.loc[sgrna_idx, 'log2fc']\n",
        "      prior_contribution = self.sgrna_prior['mean'][gene_idx]\n",
        "\n",
        "      posterior_var = 1/(\n",
        "          1/self.sgrna_priors['variance'][sgrna_idx] +\n",
        "          1/self.gene_effects[gene_idx]**2\n",
        "      )\n",
        "      posterior_mean = posterior_var * (\n",
        "          data_contribution/self.fold_changes.loc[sgrna_idx, 'variance'] +\n",
        "          prior_contribution/self.gene_effects[gene_idx]**2\n",
        "      )\n",
        "\n",
        "      # sample the efficiency\n",
        "      self.sgrna_efficiency[sgrna] = np.random.normal(posterior_mean, np.sqrt(posterior_var))\n",
        "\n",
        "  def update_dispersion(self):\n",
        "    \"\"\"\n",
        "    Update dispersion parameters.\n",
        "    \"\"\"\n",
        "    for gene_idx, in enumerate(self.genes):\n",
        "      gene_guides = self.gene_guide_map[self.genes[gene_idx]]['guide_index']\n",
        "      # calculate statistics\n",
        "      shape = self.dispersion_priors['shape'][gene_idx] + len(gene_guides)/2\n",
        "      rate = self.dispersion_priors['rate'][gene_idx] + \\\n",
        "              np.sum((self.fold_changes.loc[gene_guides, 'log2fc'] -\n",
        "                    self.gene_effects[gene_idx])**2)/2\n",
        "\n",
        "      # Sample new dispersion\n",
        "      self.dispersion[gene_idx] = np.random.gamma(shape, 1/rate)\n",
        "\n",
        "\n",
        "\n",
        "\n",
        "\n"
      ],
      "metadata": {
        "id": "5B7axWNhqV6R"
      },
      "execution_count": 11,
      "outputs": []
    },
    {
      "cell_type": "code",
      "source": [
        "count_data = pd.DataFrame(\n",
        "    {'sgrna': ['sgrna1', 'sgrna2', 'sgrna3', 'sgrna4'],\n",
        "     'gene': ['geneA', 'geneA', 'geneB', 'geneB'],\n",
        "     'control': [100, 200, 200, 250],\n",
        "     'treatment': [50, 150, 200, 400]\n",
        "     })"
      ],
      "metadata": {
        "id": "cdGkJp1Q0RXs"
      },
      "execution_count": null,
      "outputs": []
    },
    {
      "cell_type": "code",
      "source": [
        "sgrna_efficiency = {'sgrna1':0, 'sgrna2':0, 'sgrna3':0, 'sgrna4':0}"
      ],
      "metadata": {
        "id": "uVUTbYcu1Twm"
      },
      "execution_count": null,
      "outputs": []
    },
    {
      "cell_type": "code",
      "source": [
        "np.array(list(sgrna_efficiency.values()))"
      ],
      "metadata": {
        "colab": {
          "base_uri": "https://localhost:8080/"
        },
        "id": "sA75aire_pQj",
        "outputId": "def9f317-61b7-46f2-ffb0-c835c674645b"
      },
      "execution_count": null,
      "outputs": [
        {
          "output_type": "execute_result",
          "data": {
            "text/plain": [
              "array([0, 0, 0, 0])"
            ]
          },
          "metadata": {},
          "execution_count": 21
        }
      ]
    },
    {
      "cell_type": "code",
      "source": [
        "bayes_selector = BayesianSelection(count_data, sgrna_efficiency=sgrna_efficiency)"
      ],
      "metadata": {
        "id": "uDjCFS_J1XMC"
      },
      "execution_count": null,
      "outputs": []
    },
    {
      "cell_type": "code",
      "source": [
        "bayes_selector.initialize_priors()"
      ],
      "metadata": {
        "id": "87aOFvI-2eni"
      },
      "execution_count": null,
      "outputs": []
    },
    {
      "cell_type": "code",
      "source": [
        "print(bayes_selector.gene_priors)\n",
        "print(bayes_selector.sgrna_priors)\n",
        "print(bayes_selector.dispersion_priors)"
      ],
      "metadata": {
        "colab": {
          "base_uri": "https://localhost:8080/"
        },
        "id": "gjlHIY7I2z-a",
        "outputId": "4d618921-4298-4415-a1c4-4d4faf74f2f3"
      },
      "execution_count": null,
      "outputs": [
        {
          "output_type": "stream",
          "name": "stdout",
          "text": [
            "{'mean': array([0., 0.]), 'variance': array([1., 1.])}\n",
            "{'mean': array([1., 1., 1., 1.]), 'variance': array([1., 1., 1., 1.])}\n",
            "{'shape': array([1., 1.]), 'scale': array([1., 1.])}\n"
          ]
        }
      ]
    },
    {
      "cell_type": "code",
      "source": [
        "def example_update():\n",
        "    # Example data\n",
        "    prior_mean = 0\n",
        "    prior_var = 1\n",
        "    guide_data = np.array([0.5, 0.7, 0.3])\n",
        "    guide_vars = np.array([0.1, 0.1, 0.1])\n",
        "\n",
        "    # Calculate posterior\n",
        "    posterior_var = 1 / (1/prior_var + np.sum(1/guide_vars))\n",
        "    posterior_mean = posterior_var * (\n",
        "        np.sum(guide_data/guide_vars) +\n",
        "        prior_mean/prior_var\n",
        "    )\n",
        "\n",
        "    # Sample\n",
        "    new_effect = np.random.normal(posterior_mean, np.sqrt(posterior_var))\n",
        "\n",
        "    return new_effect"
      ],
      "metadata": {
        "id": "tG5qjmv03XBK"
      },
      "execution_count": 4,
      "outputs": []
    },
    {
      "cell_type": "code",
      "source": [
        "example_update()"
      ],
      "metadata": {
        "id": "cnn72me61NcX",
        "outputId": "09c59142-a659-4155-e9df-5f8c5e3068a3",
        "colab": {
          "base_uri": "https://localhost:8080/"
        }
      },
      "execution_count": 8,
      "outputs": [
        {
          "output_type": "execute_result",
          "data": {
            "text/plain": [
              "0.588096056993475"
            ]
          },
          "metadata": {},
          "execution_count": 8
        }
      ]
    },
    {
      "cell_type": "code",
      "source": [
        "np.random.normal(1,4)"
      ],
      "metadata": {
        "id": "ANxl2I932WXN",
        "outputId": "4fa52209-db6d-442a-c3ce-09c28e8b12ac",
        "colab": {
          "base_uri": "https://localhost:8080/"
        }
      },
      "execution_count": 10,
      "outputs": [
        {
          "output_type": "execute_result",
          "data": {
            "text/plain": [
              "0.8626135969033462"
            ]
          },
          "metadata": {},
          "execution_count": 10
        }
      ]
    },
    {
      "cell_type": "code",
      "source": [],
      "metadata": {
        "id": "pZ1-QeX88X3H"
      },
      "execution_count": null,
      "outputs": []
    }
  ]
}
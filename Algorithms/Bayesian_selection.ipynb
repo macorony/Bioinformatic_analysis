{
  "nbformat": 4,
  "nbformat_minor": 0,
  "metadata": {
    "colab": {
      "provenance": [],
      "authorship_tag": "ABX9TyNnJaAVPgvxFnw/AIdkJpXF",
      "include_colab_link": true
    },
    "kernelspec": {
      "name": "python3",
      "display_name": "Python 3"
    },
    "language_info": {
      "name": "python"
    }
  },
  "cells": [
    {
      "cell_type": "markdown",
      "metadata": {
        "id": "view-in-github",
        "colab_type": "text"
      },
      "source": [
        "<a href=\"https://colab.research.google.com/github/macorony/Bioinformatic_analysis/blob/main/Algorithms/Bayesian_selection.ipynb\" target=\"_parent\"><img src=\"https://colab.research.google.com/assets/colab-badge.svg\" alt=\"Open In Colab\"/></a>"
      ]
    },
    {
      "cell_type": "code",
      "source": [
        "import numpy as np\n",
        "import pandas as pd\n",
        "import scipy"
      ],
      "metadata": {
        "id": "AMkF35Pq1RFO"
      },
      "execution_count": 1,
      "outputs": []
    },
    {
      "cell_type": "code",
      "source": [
        "class BayesianSelection:\n",
        "  def __init__(self, count_table, design_matrix=None, sgrna_efficiency=None):\n",
        "    self.count_table = count_table\n",
        "    self.design_matrix = design_matrix\n",
        "    self.sgrna_efficiency = sgrna_efficiency\n",
        "\n",
        "    # calculate dimensions\n",
        "    self.n_sgrnas = len(count_table)\n",
        "    self.genes = np.unique(count_table['gene'])\n",
        "    self.n_genes = len(self.genes)\n",
        "\n",
        "    # initialize results storage\n",
        "    self.normalized_counts = None\n",
        "    self.fold_changes = None\n",
        "    self.gene_guide_map = None\n",
        "\n",
        "    # initialize parameter storage\n",
        "    self.gene_priors = None\n",
        "    self.sgrna_priors = None\n",
        "    self.dispersion_priors = None\n",
        "\n",
        "    self.gene_effect = np.zeros(self.n_genes)\n",
        "    self.sgrna_efficiency = np.zeros(self.n_sgrnas)\n",
        "    self.dispersion = np.zeros(self.n_genes)\n",
        "\n",
        "  def normalize_counts(self):\n",
        "    \"\"\"\n",
        "    Normalize sgRNA counts using median normalization.\n",
        "\n",
        "    Returns:\n",
        "    - normalized_counts (pd.DataFrame): Normalized sgRNA counts.\n",
        "    \"\"\"\n",
        "    # calculate size factors of control and treatment samples\n",
        "    control_sf = np.median(self.count_table['control'])/self.count_table['control']\n",
        "    treatment_sf = np.median(self.count_table['treatment'])/self.count_table['treatment']\n",
        "\n",
        "    # apply normalization\n",
        "    self.normalized_counts = pd.DataFrame(\n",
        "        {'control': self.count_table['control']*control_sf,\n",
        "         'treatment': self.count_table['treatment']*treatment_sf}\n",
        "        )\n",
        "\n",
        "\n",
        "    # calculate log2 fold change\n",
        "    self.fold_changes = pd.DataFrame({\n",
        "        'log2fc': np.log2(self.normalized_counts['treatment']/self.normalized_counts['control']),\n",
        "        'variance': 1/(self.normalized_counts['control'] + self.normalized_counts['treatment'])\n",
        "        })\n",
        "    return self.normalized_counts\n",
        "\n",
        "  def group_sgrna_by_gene(self):\n",
        "    \"\"\"\n",
        "    Group sgRNAs by targeting genes.\n",
        "\n",
        "    Returns:\n",
        "    - gene_guide_map (dict): Mapping of genes to sgRNA indices.\n",
        "    \"\"\"\n",
        "\n",
        "\n",
        "    self.gene_guide_map = {}\n",
        "    for gene in self.genes:\n",
        "      mask = self.count_table['gene'] == gene\n",
        "      self.gene_guide_map[gene] = {\n",
        "          'guide_index': np.where(mask)[0],\n",
        "          'n_guides':np.sum(mask)}\n",
        "    return self.gene_guide_map\n",
        "\n",
        "  def initialize_priors(self):\n",
        "    \"\"\"\n",
        "    Initialize prior distributions for Bayesian analysis.\n",
        "    \"\"\"\n",
        "\n",
        "    # 1. gene effect priors(normal distribution)\n",
        "    self.gene_priors = {\n",
        "        'mean': np.zeros(self.n_genes),\n",
        "        'variance': np.ones(self.n_genes)\n",
        "    }\n",
        "\n",
        "    # 2.sgRNA efficiency priors\n",
        "    if self.sgrna_efficiency is None:\n",
        "      self.sgrna_priors = {\n",
        "          'mean': np.array(list(self.sgrna_efficiency.values())),\n",
        "          'variance': 0.1 * np.ones(self.n_sgrnas)\n",
        "      }\n",
        "    else:\n",
        "      self.sgrna_priors = {\n",
        "          'mean': np.ones(self.n_sgrnas),\n",
        "          'variance':np.ones(self.n_sgrnas)\n",
        "          }\n",
        "\n",
        "    # 3. dispersion priors (Gamma distribution)\n",
        "    self.dispersion_priors = {\n",
        "        'shape': np.ones(self.n_genes),\n",
        "        'scale': np.ones(self.n_genes)\n",
        "        }\n",
        "\n",
        "  def construct_likelihood(self):\n",
        "    \"\"\"\n",
        "    Construct negative binomial likelihood function.\n",
        "\n",
        "    Returns:\n",
        "    - likelihood (function): Negative binomial log-likelihood function.\n",
        "    \"\"\"\n",
        "    def negative_binomial_likelihood(count: np.ndarray,\n",
        "                                     mean: np.ndarray,\n",
        "                                     dispersion: np.ndarray):\n",
        "      # log likelihood of negative binomial distribution\n",
        "      r = 1/dispersion\n",
        "      p = r/(r+mean)\n",
        "      return scipy.stats.nbinom.logpmf(count, r, p)\n",
        "    return negative_binomial_likelihood\n",
        "\n",
        "  def update_gene_effect(self):\n",
        "      \"\"\"\n",
        "      Update gene effects using Gibbs sampling.\n",
        "      \"\"\"\n",
        "\n",
        "      # run normalize_counts if needed\n",
        "      if self.fold_changes is None:\n",
        "        self.normalize_counts()\n",
        "\n",
        "      # run group_sgrna_by_gene if needed\n",
        "      if self.gene_guide_map is None:\n",
        "        self.group_sgrna_by_gene()\n",
        "\n",
        "      # run initialize_priors if needed\n",
        "      if any(attr is None for attr in [self.gene_priors, self.sgrna_priors, self.dispersion_priors]):\n",
        "        self.initialize_priors()\n",
        "\n",
        "      for gene_idx, gene in enumerate(self.genes):\n",
        "        # get sgRNA for the gene\n",
        "        gene_guides = self.gene_guide_map[self.genes[gene_idx]]['guide_index']\n",
        "        # calculate statistics\n",
        "        sgrna_data = self.fold_changes.loc[gene_guides, 'log2fc']\n",
        "        print(f\"sgRNA data: {sgrna_data}\")\n",
        "        sgrna_vars = 1/(self.sgrna_priors['variance'][gene_guides])\n",
        "        # posterior parameters\n",
        "        posterior_var = 1/(1/self.gene_priors['variance'][gene_idx] + np.sum(sgrna_vars))\n",
        "        posterior_mean = posterior_var * (self.gene_priors['mean'][gene_idx]/self.gene_priors['variance'][gene_idx] + np.sum(sgrna_data*sgrna_vars))\n",
        "        # sample new effect\n",
        "        self.gene_effect[gene_idx] = np.random.normal(posterior_mean, np.sqrt(posterior_var))\n",
        "\n",
        "\n",
        "  def update_sgrna_efficiency(self):\n",
        "    \"\"\"\n",
        "    Update sgRNA efficiencies.\n",
        "    \"\"\"\n",
        "\n",
        "\n",
        "\n",
        "\n",
        "    for sgrna_idx, sgrna in enumerate(self.n_sgrnas):\n",
        "      # calculate statistics\n",
        "      gene = self.count_table.loc[sgrna_idx, 'gene']\n",
        "      gene_idx = np.where(self.genes == gene)[0][0]\n",
        "      # calculate posterior\n",
        "      data_contribution = self.fold_changes.loc[sgrna_idx, 'log2fc']\n",
        "      prior_contribution = self.sgrna_prior['mean'][gene_idx]\n",
        "\n",
        "      posterior_var = 1/(\n",
        "          1/self.sgrna_priors['variance'][sgrna_idx] +\n",
        "          1/self.gene_effects[gene_idx]**2\n",
        "      )\n",
        "      posterior_mean = posterior_var * (\n",
        "          data_contribution/self.fold_changes.loc[sgrna_idx, 'variance'] +\n",
        "          prior_contribution/self.gene_effects[gene_idx]**2\n",
        "      )\n",
        "\n",
        "      # sample the efficiency\n",
        "      self.sgrna_efficiency[sgrna] = np.random.normal(posterior_mean, np.sqrt(posterior_var))\n",
        "\n",
        "  def update_dispersion(self):\n",
        "    \"\"\"\n",
        "    Update dispersion parameters.\n",
        "    \"\"\"\n",
        "    for gene_idx, in enumerate(self.genes):\n",
        "      gene_guides = self.gene_guide_map[self.genes[gene_idx]]['guide_index']\n",
        "      # calculate statistics\n",
        "      shape = self.dispersion_priors['shape'][gene_idx] + len(gene_guides)/2\n",
        "      rate = self.dispersion_priors['rate'][gene_idx] + \\\n",
        "              np.sum((self.fold_changes.loc[gene_guides, 'log2fc'] -\n",
        "                    self.gene_effects[gene_idx])**2)/2\n",
        "\n",
        "      # Sample new dispersion\n",
        "      self.dispersion[gene_idx] = np.random.gamma(shape, 1/rate)\n",
        "  def estimate_parameters(self, n_iterations=1000, burn_in=100):\n",
        "    \"\"\"\n",
        "    Estimate the parameters using EM algorithm.\n",
        "    \"\"\"\n",
        "    self.mcmc_samples = {\n",
        "        'gene_effect': np.zeros((n_iterations, self.n_genes)),\n",
        "        'sgrna_efficiency': np.zeros((n_iterations, self.n_sgrnas)),\n",
        "        'dispersion': np.zeros((n_iterations, self.n_genes))\n",
        "    }\n",
        "    # run gibbs sampling\n",
        "    for iter in range(n_iterations):\n",
        "      self.update_gene_effect()\n",
        "      self.update_sgrna_efficiency()\n",
        "      self.update_dispersion()\n",
        "      # store sample (after burn-in)\n",
        "      if iter >= burn_in:\n",
        "        self.store_samples(iter)\n",
        "      # monitor convergence\n",
        "      if iter % 100 == 0:\n",
        "        self.check_convergence(iter)\n",
        "\n",
        "  def store_samples(self, iter):\n",
        "    \"\"\"\n",
        "    Store MCMC samples.\n",
        "    \"\"\"\n",
        "    # store gene effect estimates\n",
        "    self.mcmc_samples['gene_effect'][iter, :] = self.gene_effects\n",
        "    # store guide RNA efficiency estimates\n",
        "    self.mcmc_samples['sgrna_efficiency'][iter, :] = self.sgrna_efficiency\n",
        "    # store dispersion estimates\n",
        "    self.mcmc_samples['dispersion'][iter, :] = self.dispersion\n",
        "\n",
        "\n"
      ],
      "metadata": {
        "id": "5B7axWNhqV6R"
      },
      "execution_count": 48,
      "outputs": []
    },
    {
      "cell_type": "code",
      "source": [
        "# a small example\n",
        "count_data = pd.DataFrame(\n",
        "    {'sgrna': ['sgrna1', 'sgrna2', 'sgrna3', 'sgrna4'],\n",
        "     'gene': ['geneA', 'geneA', 'geneB', 'geneB'],\n",
        "     'control': [100, 200, 200, 250],\n",
        "     'treatment': [50, 150, 200, 400]\n",
        "     })\n",
        "sgrna_efficiency = {'sgrna1':0, 'sgrna2':0, 'sgrna3':0, 'sgrna4':0}\n",
        "bayes_selector = BayesianSelection(count_data, sgrna_efficiency=sgrna_efficiency)"
      ],
      "metadata": {
        "id": "cdGkJp1Q0RXs"
      },
      "execution_count": 49,
      "outputs": []
    },
    {
      "cell_type": "code",
      "source": [
        "bayes_selector.update_gene_effect()\n",
        "print(bayes_selector.gene_effect)"
      ],
      "metadata": {
        "id": "46OaHOGurP1s",
        "outputId": "fe69ea5c-b28c-426c-a8ed-2041bf5802d2",
        "colab": {
          "base_uri": "https://localhost:8080/"
        }
      },
      "execution_count": 50,
      "outputs": [
        {
          "output_type": "stream",
          "name": "stdout",
          "text": [
            "sgRNA data: 0   -0.192645\n",
            "1   -0.192645\n",
            "Name: log2fc, dtype: float64\n",
            "sgRNA data: 2   -0.192645\n",
            "3   -0.192645\n",
            "Name: log2fc, dtype: float64\n",
            "[ 0.27124378 -0.01325144]\n"
          ]
        }
      ]
    },
    {
      "cell_type": "code",
      "source": [
        "for gene_idx, gene in enumerate(bayes_selector.genes):\n",
        "  print(bayes_selector.gene_guide_map)"
      ],
      "metadata": {
        "id": "uVUTbYcu1Twm",
        "outputId": "e20b7874-3546-4c2f-c91a-069693e1b117",
        "colab": {
          "base_uri": "https://localhost:8080/"
        }
      },
      "execution_count": 19,
      "outputs": [
        {
          "output_type": "stream",
          "name": "stdout",
          "text": [
            "None\n",
            "None\n"
          ]
        }
      ]
    },
    {
      "cell_type": "code",
      "source": [
        "bayes_selector.fold_changes\n"
      ],
      "metadata": {
        "id": "N1HsYl7YTf0n"
      },
      "execution_count": null,
      "outputs": []
    },
    {
      "cell_type": "code",
      "source": [
        "bayes_selector.fold_changes\n"
      ],
      "metadata": {
        "id": "87aOFvI-2eni"
      },
      "execution_count": null,
      "outputs": []
    },
    {
      "cell_type": "code",
      "source": [
        "print(bayes_selector.gene_priors)\n",
        "print(bayes_selector.sgrna_priors)\n",
        "print(bayes_selector.dispersion_priors)\n",
        "print(bayes_selector.gene_guide_map)"
      ],
      "metadata": {
        "colab": {
          "base_uri": "https://localhost:8080/",
          "height": 193
        },
        "id": "gjlHIY7I2z-a",
        "outputId": "569bd407-69af-49fd-b2d0-94bf00c71b2d"
      },
      "execution_count": null,
      "outputs": [
        {
          "output_type": "error",
          "ename": "AttributeError",
          "evalue": "'BayesianSelection' object has no attribute 'gene_priors'",
          "traceback": [
            "\u001b[0;31m---------------------------------------------------------------------------\u001b[0m",
            "\u001b[0;31mAttributeError\u001b[0m                            Traceback (most recent call last)",
            "\u001b[0;32m<ipython-input-55-e6cccb7abe8b>\u001b[0m in \u001b[0;36m<cell line: 1>\u001b[0;34m()\u001b[0m\n\u001b[0;32m----> 1\u001b[0;31m \u001b[0mprint\u001b[0m\u001b[0;34m(\u001b[0m\u001b[0mbayes_selector\u001b[0m\u001b[0;34m.\u001b[0m\u001b[0mgene_priors\u001b[0m\u001b[0;34m)\u001b[0m\u001b[0;34m\u001b[0m\u001b[0;34m\u001b[0m\u001b[0m\n\u001b[0m\u001b[1;32m      2\u001b[0m \u001b[0mprint\u001b[0m\u001b[0;34m(\u001b[0m\u001b[0mbayes_selector\u001b[0m\u001b[0;34m.\u001b[0m\u001b[0msgrna_priors\u001b[0m\u001b[0;34m)\u001b[0m\u001b[0;34m\u001b[0m\u001b[0;34m\u001b[0m\u001b[0m\n\u001b[1;32m      3\u001b[0m \u001b[0mprint\u001b[0m\u001b[0;34m(\u001b[0m\u001b[0mbayes_selector\u001b[0m\u001b[0;34m.\u001b[0m\u001b[0mdispersion_priors\u001b[0m\u001b[0;34m)\u001b[0m\u001b[0;34m\u001b[0m\u001b[0;34m\u001b[0m\u001b[0m\n\u001b[1;32m      4\u001b[0m \u001b[0mprint\u001b[0m\u001b[0;34m(\u001b[0m\u001b[0mbayes_selector\u001b[0m\u001b[0;34m.\u001b[0m\u001b[0mgene_guide_map\u001b[0m\u001b[0;34m)\u001b[0m\u001b[0;34m\u001b[0m\u001b[0;34m\u001b[0m\u001b[0m\n",
            "\u001b[0;31mAttributeError\u001b[0m: 'BayesianSelection' object has no attribute 'gene_priors'"
          ]
        }
      ]
    },
    {
      "cell_type": "code",
      "source": [
        "def example_update():\n",
        "    # Example data\n",
        "    prior_mean = 0\n",
        "    prior_var = 1\n",
        "    guide_data = np.array([0.5, 0.7, 0.3])\n",
        "    guide_vars = np.array([0.1, 0.1, 0.1])\n",
        "\n",
        "    # Calculate posterior\n",
        "    posterior_var = 1 / (1/prior_var + np.sum(1/guide_vars))\n",
        "    posterior_mean = posterior_var * (\n",
        "        np.sum(guide_data/guide_vars) +\n",
        "        prior_mean/prior_var\n",
        "    )\n",
        "\n",
        "    # Sample\n",
        "    new_effect = np.random.normal(posterior_mean, np.sqrt(posterior_var))\n",
        "\n",
        "    return new_effect"
      ],
      "metadata": {
        "id": "tG5qjmv03XBK"
      },
      "execution_count": null,
      "outputs": []
    },
    {
      "cell_type": "code",
      "source": [
        "example_update()"
      ],
      "metadata": {
        "id": "cnn72me61NcX",
        "outputId": "09c59142-a659-4155-e9df-5f8c5e3068a3",
        "colab": {
          "base_uri": "https://localhost:8080/"
        }
      },
      "execution_count": null,
      "outputs": [
        {
          "output_type": "execute_result",
          "data": {
            "text/plain": [
              "0.588096056993475"
            ]
          },
          "metadata": {},
          "execution_count": 8
        }
      ]
    },
    {
      "cell_type": "code",
      "source": [
        "np.random.normal(1,4)"
      ],
      "metadata": {
        "id": "ANxl2I932WXN",
        "outputId": "4fa52209-db6d-442a-c3ce-09c28e8b12ac",
        "colab": {
          "base_uri": "https://localhost:8080/"
        }
      },
      "execution_count": null,
      "outputs": [
        {
          "output_type": "execute_result",
          "data": {
            "text/plain": [
              "0.8626135969033462"
            ]
          },
          "metadata": {},
          "execution_count": 10
        }
      ]
    },
    {
      "cell_type": "code",
      "source": [],
      "metadata": {
        "id": "pZ1-QeX88X3H"
      },
      "execution_count": null,
      "outputs": []
    }
  ]
}
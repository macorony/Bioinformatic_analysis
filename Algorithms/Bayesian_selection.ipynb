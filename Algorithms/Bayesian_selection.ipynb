{
  "nbformat": 4,
  "nbformat_minor": 0,
  "metadata": {
    "colab": {
      "provenance": [],
      "authorship_tag": "ABX9TyNY1Yz9a8NFD//6GAlFrvP0",
      "include_colab_link": true
    },
    "kernelspec": {
      "name": "python3",
      "display_name": "Python 3"
    },
    "language_info": {
      "name": "python"
    }
  },
  "cells": [
    {
      "cell_type": "markdown",
      "metadata": {
        "id": "view-in-github",
        "colab_type": "text"
      },
      "source": [
        "<a href=\"https://colab.research.google.com/github/macorony/Bioinformatic_analysis/blob/main/Algorithms/Bayesian_selection.ipynb\" target=\"_parent\"><img src=\"https://colab.research.google.com/assets/colab-badge.svg\" alt=\"Open In Colab\"/></a>"
      ]
    },
    {
      "cell_type": "code",
      "source": [
        "import numpy as np\n",
        "import pandas as pd\n",
        "class BayesianSelection:\n",
        "  def __init__(self, count_table, design_matrix=None, sgrna_efficiency=None):\n",
        "    self.count_table = count_table\n",
        "    self.design_matrix = design_matrix\n",
        "    self.sgrna_efficiency = sgrna_efficiency\n",
        "\n",
        "    self.n_sgrnas = len(count_table)\n",
        "    self.genes = np.unique(count_table['gene'])\n",
        "    self.n_genes = len(self.genes)\n",
        "\n",
        "    self.normalized_counts = None\n",
        "    self.fold_changes = None\n",
        "    self.gene_guide_map = None\n",
        "\n",
        "  def normalize_counts(self, count_table):\n",
        "    control_sf = np.median(count_table['control'])/count_table['control']\n",
        "    treatment_sf = np.median(count_table['treatment'])/count_table['treatment']\n",
        "    normalized = pd.DataFrame(\n",
        "        {'control': count_table['control']*control_sf,\n",
        "         'treatment': count_table['treatment']*treatment_sf}\n",
        "        )\n",
        "    return normalized\n",
        "\n",
        "  def group_sgrna_by_gene(self):\n",
        "    gene_guide_map = {}\n",
        "    for gene in self.genes:\n",
        "      gene_guide_map[gene] = np.where(self.count_table['gene'] == gene)\n",
        "    return gene_guide_map\n",
        "\n",
        "  def initialize_priors(self):\n",
        "    '''\n",
        "    Initialize prior distributions for Bayesian analysis.\n",
        "    '''\n",
        "    # 1. gene effect priors(normal distribution)\n",
        "    self.gene_priors = {\n",
        "        'mean': np.zeros(self.n_genes),\n",
        "        'variance': np.ones(self.n_genes)\n",
        "    }\n",
        "    # 2.sgRNA efficiency priors\n",
        "    if self.sgrna_efficiency is None:\n",
        "      self.sgrna_priors = {\n",
        "          'mean': np.array(list(self.sgrna_efficiency.values())),\n",
        "          'variance': 0.1 * np.ones(self.n_sgrnas)\n",
        "      }\n",
        "    else:\n",
        "      self.sgrna_priors = {\n",
        "          'mean': np.ones(self.n_sgrnas),\n",
        "          'variance':np.ones(self.n_sgrnas)\n",
        "          }\n",
        "    # 3. dispersion priors (Gamma distribution)\n",
        "    self.dispersion_priors = {\n",
        "        'shape': np.ones(self.n_genes),\n",
        "        'scale': np.ones(self.n_genes)\n",
        "        }\n",
        "    # 4. size factor priors (if needed for multiple conditions)\n",
        "    if self.design_matrix is not None:\n",
        "      n_conditions = self.design_matrix.shape[1]\n",
        "      self.size_factor_priors = {\n",
        "          'mean': np.ones(n_conditions),\n",
        "          'variance': 0.1 * np.ones(n_conditions)\n",
        "          }\n",
        "\n",
        "  def construct_model(self):\n",
        "    \"\"\"\n",
        "    Construct the hierarchical model for Bayesian analysis.\n",
        "    \"\"\"\n",
        "    self.model = {\n",
        "        # likelihood function (Negative Binomial)\n",
        "        'likelihood': self.contruct_likelihood(),\n",
        "        # priors?\n",
        "        'priors': self.contruct_priors(),\n",
        "        # hyperparameters?\n",
        "        'hyperparameters': self.set_hyperparameters()\n",
        "    }\n",
        "\n",
        "  def estimate_parameters(self, n_iterations=1000, burn_in=100):\n",
        "    \"\"\"\n",
        "    Estimate the parameters of the hierarchical model.\n",
        "    \"\"\"\n",
        "    self.mcmc_samples = {\n",
        "        'gene_effect': np.zeros((n_iterations, self.n_genes)),\n",
        "        'sgrna_efficiency': np.zeros((n_iterations, self.n_sgrnas)),\n",
        "        'dispersion': np.zeros((n_iterations, self.n_genes))\n",
        "    }\n",
        "    # run gibbs sampling\n",
        "    for iter in range(n_iterations):\n",
        "      self.update_gene_effect()\n",
        "      self.update_sgrna_efficiency()\n",
        "      self.update_dispersion()\n",
        "      # store sample (after burn-in)\n",
        "      if iter >= burn_in:\n",
        "        self.store_samples(iter)\n",
        "      # monitor convergence\n",
        "      if iter % 100 == 0:\n",
        "        self.check_convergence(iter)\n",
        "\n",
        "  def contruct_likelihood(self):\n",
        "    \"\"\"\n",
        "    contruct negative binomial likelihood function\n",
        "    \"\"\"\n",
        "    def negative_binomial_likelihood(count, mean, dispersion):\n",
        "      return np\n",
        "\n",
        "\n",
        "\n",
        "\n"
      ],
      "metadata": {
        "id": "5B7axWNhqV6R"
      },
      "execution_count": 33,
      "outputs": []
    },
    {
      "cell_type": "code",
      "source": [
        "count_data = pd.DataFrame(\n",
        "    {'sgrna': ['sgrna1', 'sgrna2', 'sgrna3', 'sgrna4'],\n",
        "     'gene': ['geneA', 'geneA', 'geneB', 'geneB'],\n",
        "     'control': [100, 200, 200, 250],\n",
        "     'treatment': [50, 150, 200, 400]\n",
        "     })"
      ],
      "metadata": {
        "id": "cdGkJp1Q0RXs"
      },
      "execution_count": 24,
      "outputs": []
    },
    {
      "cell_type": "code",
      "source": [
        "sgrna_efficiency = {'sgrna1':0, 'sgrna2':0, 'sgrna3':0, 'sgrna4':0}"
      ],
      "metadata": {
        "id": "uVUTbYcu1Twm"
      },
      "execution_count": 25,
      "outputs": []
    },
    {
      "cell_type": "code",
      "source": [
        "np.array(list(sgrna_efficiency.values()))"
      ],
      "metadata": {
        "colab": {
          "base_uri": "https://localhost:8080/"
        },
        "id": "sA75aire_pQj",
        "outputId": "def9f317-61b7-46f2-ffb0-c835c674645b"
      },
      "execution_count": 21,
      "outputs": [
        {
          "output_type": "execute_result",
          "data": {
            "text/plain": [
              "array([0, 0, 0, 0])"
            ]
          },
          "metadata": {},
          "execution_count": 21
        }
      ]
    },
    {
      "cell_type": "code",
      "source": [
        "bayes_selector = BayesianSelection(count_data, sgrna_efficiency=sgrna_efficiency)"
      ],
      "metadata": {
        "id": "uDjCFS_J1XMC"
      },
      "execution_count": 26,
      "outputs": []
    },
    {
      "cell_type": "code",
      "source": [
        "bayes_selector.initialize_priors()"
      ],
      "metadata": {
        "id": "87aOFvI-2eni"
      },
      "execution_count": 27,
      "outputs": []
    },
    {
      "cell_type": "code",
      "source": [
        "print(bayes_selector.gene_priors)\n",
        "print(bayes_selector.sgrna_priors)\n",
        "print(bayes_selector.dispersion_priors)"
      ],
      "metadata": {
        "colab": {
          "base_uri": "https://localhost:8080/"
        },
        "id": "gjlHIY7I2z-a",
        "outputId": "4d618921-4298-4415-a1c4-4d4faf74f2f3"
      },
      "execution_count": 31,
      "outputs": [
        {
          "output_type": "stream",
          "name": "stdout",
          "text": [
            "{'mean': array([0., 0.]), 'variance': array([1., 1.])}\n",
            "{'mean': array([1., 1., 1., 1.]), 'variance': array([1., 1., 1., 1.])}\n",
            "{'shape': array([1., 1.]), 'scale': array([1., 1.])}\n"
          ]
        }
      ]
    },
    {
      "cell_type": "code",
      "source": [],
      "metadata": {
        "id": "tG5qjmv03XBK"
      },
      "execution_count": null,
      "outputs": []
    }
  ]
}
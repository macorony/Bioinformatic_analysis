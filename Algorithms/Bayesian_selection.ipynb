{
  "nbformat": 4,
  "nbformat_minor": 0,
  "metadata": {
    "colab": {
      "provenance": [],
      "authorship_tag": "ABX9TyMcJS9jRIrIuNRupeEv2zu0",
      "include_colab_link": true
    },
    "kernelspec": {
      "name": "python3",
      "display_name": "Python 3"
    },
    "language_info": {
      "name": "python"
    }
  },
  "cells": [
    {
      "cell_type": "markdown",
      "metadata": {
        "id": "view-in-github",
        "colab_type": "text"
      },
      "source": [
        "<a href=\"https://colab.research.google.com/github/macorony/Bioinformatic_analysis/blob/main/Algorithms/Bayesian_selection.ipynb\" target=\"_parent\"><img src=\"https://colab.research.google.com/assets/colab-badge.svg\" alt=\"Open In Colab\"/></a>"
      ]
    },
    {
      "cell_type": "code",
      "source": [
        "import numpy as np\n",
        "import pandas as pd\n",
        "class BayesianSelection:\n",
        "  def __init__(self, count_table, design_matrix=None, sgrna_efficiency=None):\n",
        "    self.count_table = count_table\n",
        "    self.design_matrix = design_matrix\n",
        "    self.sgrna_efficiency = sgrna_efficiency\n",
        "\n",
        "    self.n_sgrnas = len(count_table)\n",
        "    self.genes = np.unique(count_table['gene'])\n",
        "    self.n_genes = len(self.genes)\n",
        "\n",
        "    self.normalized_counts = None\n",
        "    self.fold_changes = None\n",
        "    self.gene_guide_map = None\n",
        "\n",
        "  def normalize_counts(self, count_table):\n",
        "    control_sf = np.median(count_table['control'])/count_table['control']\n",
        "    treatment_sf = np.median(count_table['treatment'])/count_table['treatment']\n",
        "    normalized = pd.DataFrame(\n",
        "        {'control': count_table['control']*control_sf,\n",
        "         'treatment': count_table['treatment']*treatment_sf}\n",
        "        )\n",
        "    return normalized\n",
        "\n",
        "  def group_sgrna_by_gene(self):\n",
        "    gene_guide_map = {}\n",
        "    for gene in self.genes:\n",
        "      gene_guide_map[gene] = np.where(self.count_table['gene'] == gene)\n",
        "    return gene_guide_map\n",
        "\n",
        "  def initialize_priors(self):\n",
        "    self.gene_priors = {\n",
        "        'mean': np.zeros(self.n_genes),\n",
        "        'variance': np.ones(self.n_genes)\n",
        "    }\n",
        ""
      ],
      "metadata": {
        "id": "5B7axWNhqV6R"
      },
      "execution_count": 11,
      "outputs": []
    },
    {
      "cell_type": "code",
      "source": [
        "count_data = pd.DataFrame(\n",
        "    {'sgrna': ['sgrna1', 'sgrna2', 'sgrna3', 'sgrna4'],\n",
        "     'gene': ['geneA', 'geneA', 'geneB', 'geneB'],\n",
        "     'control': [100, 200, 200, 250],\n",
        "     'treatment': [50, 150, 200, 400]\n",
        "     })"
      ],
      "metadata": {
        "id": "cdGkJp1Q0RXs"
      },
      "execution_count": 12,
      "outputs": []
    },
    {
      "cell_type": "code",
      "source": [
        "sgrna_efficiency = {'sgrna1':0, 'sgrna2':0, 'sgrna3':0, 'sgrna4':0}"
      ],
      "metadata": {
        "id": "uVUTbYcu1Twm"
      },
      "execution_count": 13,
      "outputs": []
    },
    {
      "cell_type": "code",
      "source": [
        "bayes_selector = BayesianSelection(count_data, sgrna_efficiency=sgrna_efficiency)"
      ],
      "metadata": {
        "id": "uDjCFS_J1XMC"
      },
      "execution_count": 14,
      "outputs": []
    },
    {
      "cell_type": "code",
      "source": [
        "bayes_selector.genes"
      ],
      "metadata": {
        "colab": {
          "base_uri": "https://localhost:8080/"
        },
        "id": "87aOFvI-2eni",
        "outputId": "91aa1240-c64d-42b3-e84c-ae9701a093b7"
      },
      "execution_count": 16,
      "outputs": [
        {
          "output_type": "execute_result",
          "data": {
            "text/plain": [
              "array(['geneA', 'geneB'], dtype=object)"
            ]
          },
          "metadata": {},
          "execution_count": 16
        }
      ]
    },
    {
      "cell_type": "code",
      "source": [
        "bayes_selector.group_sgrna_by_gene()"
      ],
      "metadata": {
        "colab": {
          "base_uri": "https://localhost:8080/"
        },
        "id": "gjlHIY7I2z-a",
        "outputId": "6c84209a-e214-4803-8278-8e515ad51a15"
      },
      "execution_count": 17,
      "outputs": [
        {
          "output_type": "execute_result",
          "data": {
            "text/plain": [
              "{'geneA': (array([0, 1]),), 'geneB': (array([2, 3]),)}"
            ]
          },
          "metadata": {},
          "execution_count": 17
        }
      ]
    },
    {
      "cell_type": "code",
      "source": [],
      "metadata": {
        "id": "tG5qjmv03XBK"
      },
      "execution_count": null,
      "outputs": []
    }
  ]
}